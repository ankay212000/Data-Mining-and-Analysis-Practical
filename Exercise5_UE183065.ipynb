{
  "nbformat": 4,
  "nbformat_minor": 0,
  "metadata": {
    "colab": {
      "name": "Exercise5_UE183065.ipynb",
      "provenance": [],
      "authorship_tag": "ABX9TyOdaEKfsZOLZ6NYznQXRQka",
      "include_colab_link": true
    },
    "kernelspec": {
      "name": "python3",
      "display_name": "Python 3"
    },
    "language_info": {
      "name": "python"
    }
  },
  "cells": [
    {
      "cell_type": "markdown",
      "metadata": {
        "id": "view-in-github",
        "colab_type": "text"
      },
      "source": [
        "<a href=\"https://colab.research.google.com/github/ankay212000/Data-Mining-and-Analysis-Practical/blob/main/Exercise5_UE183065.ipynb\" target=\"_parent\"><img src=\"https://colab.research.google.com/assets/colab-badge.svg\" alt=\"Open In Colab\"/></a>"
      ]
    },
    {
      "cell_type": "markdown",
      "metadata": {
        "id": "G2QnqIkJawDL"
      },
      "source": [
        "**Create a function to check whether numpy array has Zero values or not.**"
      ]
    },
    {
      "cell_type": "code",
      "metadata": {
        "colab": {
          "base_uri": "https://localhost:8080/"
        },
        "id": "nLJvXXkTacFw",
        "outputId": "6b09f160-4aca-439c-cb68-a77f620e0083"
      },
      "source": [
        "import numpy as np\n",
        "\n",
        "def check_zeros(arr):\n",
        "  if(np.count_nonzero(arr)!=len(arr)):\n",
        "    return True,abs(np.count_nonzero(arr)-len(arr))\n",
        "  else:\n",
        "    return False,0\n",
        "\n",
        "\n",
        "print(\"Enter your list: \")\n",
        "arr=list(map(int,input().split(\" \")))\n",
        "arr=np.array(arr)\n",
        "flag,num = check_zeros(arr)\n",
        "if(flag):\n",
        "  print(f\"YES, numpy array contains {num} zeros\")\n",
        "else:\n",
        "  print(\"NO\")    "
      ],
      "execution_count": null,
      "outputs": [
        {
          "output_type": "stream",
          "text": [
            "Enter your list: \n",
            "1 2 3 4 0 0 4 5\n",
            "YES, numpy array contains 2 zeros\n"
          ],
          "name": "stdout"
        }
      ]
    },
    {
      "cell_type": "markdown",
      "metadata": {
        "id": "RHRyygTGgQab"
      },
      "source": [
        "**Consider an array contains marks of students. Find the median and mean of students who got passing marks.**"
      ]
    },
    {
      "cell_type": "code",
      "metadata": {
        "id": "rG1T6h57dqOo",
        "colab": {
          "base_uri": "https://localhost:8080/"
        },
        "outputId": "60e74998-19ab-489e-b63d-e505a77a3414"
      },
      "source": [
        "import numpy as np\n",
        "marks=np.random.randint(1,100,200)\n",
        "passed=[]\n",
        "\n",
        "for i in marks:\n",
        "  if(i>33):\n",
        "    passed.append(i)\n",
        "\n",
        "print(\"Marks of student: \\n\",marks)\n",
        "print(\"\\nPassing marks: 33\")\n",
        "passed=np.array(passed)\n",
        "print(\"Marks of passed students: \\n\",passed)\n",
        "\n",
        "print(\"\\nMedian: \",np.median(passed))\n",
        "print(\"Mean: \",np.mean(passed))    "
      ],
      "execution_count": 7,
      "outputs": [
        {
          "output_type": "stream",
          "text": [
            "Marks of student: \n",
            " [ 9 33 22 12 42 82 86 21 55 98 11 27 70 46 56 58 45 35 49 49 72  6 14 38\n",
            " 23 68 68 11 58 64 90  5 65 25 74 10 36 84 57  8 79 80 24 65 31  1 37 24\n",
            " 64 26 49 78 26 95 21 88 52 85 50 77 65 85 97 55 96 33 75 84 72 66  6 66\n",
            " 88 97 49 17 96 59 77 73 91 10 95 77 78 26 66 87 49 43 70 55 35 84 73 63\n",
            " 17 84 32 56 98 98 71 91 61 29  6 11 47  7 77 14 25 34 37 94 16 19  1 53\n",
            " 61 12 27 30 94 44 45 47 72  6 12 69 83 35 27 30 35 92 54 10 74  8 90 31\n",
            " 74 20 23  9 19 89  8 17 65 16 85 22 43 19 44 91 81 49 59 11  5 54 20 43\n",
            "  9 12 98  6  1 49 43  7 64  5 54 98 96 21 43 25 49 59 72  1 91 68 90  5\n",
            " 86 91 28 93 97 66 83 70]\n",
            "\n",
            "Passing marks: 33\n",
            "Marks of passed students: \n",
            " [42 82 86 55 98 70 46 56 58 45 35 49 49 72 38 68 68 58 64 90 65 74 36 84\n",
            " 57 79 80 65 37 64 49 78 95 88 52 85 50 77 65 85 97 55 96 75 84 72 66 66\n",
            " 88 97 49 96 59 77 73 91 95 77 78 66 87 49 43 70 55 35 84 73 63 84 56 98\n",
            " 98 71 91 61 47 77 34 37 94 53 61 94 44 45 47 72 69 83 35 35 92 54 74 90\n",
            " 74 89 65 85 43 44 91 81 49 59 54 43 98 49 43 64 54 98 96 43 49 59 72 91\n",
            " 68 90 86 91 93 97 66 83 70]\n",
            "\n",
            "Median:  69.0\n",
            "Mean:  68.55038759689923\n"
          ],
          "name": "stdout"
        }
      ]
    },
    {
      "cell_type": "markdown",
      "metadata": {
        "id": "AAjWWFOKiMng"
      },
      "source": [
        "**Consider an array containing date of birth of students** \n",
        "\n",
        "**(Use np.datetime64('2018-02-01')).**\n",
        "\n",
        "**Find the age of all students.**  \n",
        "\n",
        "1.   If age is 18 label it First\n",
        "2.   If it is 19, label it Second\n",
        "3.   If it is 20, label it Third \n",
        "4.   If it is 21, label it Fourth."
      ]
    },
    {
      "cell_type": "code",
      "metadata": {
        "colab": {
          "base_uri": "https://localhost:8080/"
        },
        "id": "IbHkO-GGiP93",
        "outputId": "3257f36d-6bc3-4a1f-99e6-5cb8920fa97a"
      },
      "source": [
        "import numpy as np\n",
        "\n",
        "def label(dob):\n",
        "  labels={1:[],2:[],3:[],4:[]}\n",
        "  for i in dob.keys():\n",
        "    if((np.datetime64('2021-05-01')-np.datetime64(dob[i]))/365.25==np.timedelta64(18)):\n",
        "      labels[1].append(i)\n",
        "    elif((np.datetime64('2021-05-01')-np.datetime64(dob[i]))/365.25==np.timedelta64(19)):\n",
        "      labels[2].append(i)\n",
        "    elif((np.datetime64('2021-05-01')-np.datetime64(dob[i]))/365.25==np.timedelta64(20)):\n",
        "      labels[3].append(i)\n",
        "    elif((np.datetime64('2021-05-01')-np.datetime64(dob[i]))/365.25==np.timedelta64(21)):\n",
        "      labels[4].append(i)\n",
        "  \n",
        "  return labels\n",
        "\n",
        "\n",
        "dob={\n",
        "     'Nitish':'2000-03-26',\n",
        "     'Neha':'2002-03-03',\n",
        "     'Vivek':'2003-01-01',\n",
        "     'Razaul':'2000-12-09',\n",
        "     'Vineet':'2002-05-05'\n",
        "}\n",
        "#print(\"Number of Students: \")\n",
        "#n=int(input())\n",
        "\n",
        "'''for i in range(n):\n",
        "  print()\n",
        "  print(\"Your Name :\")\n",
        "  name=input()\n",
        "  print(\"DOB format(yyyy-mm-dd): \")\n",
        "  d=input()\n",
        "  dob[name]=d'''\n",
        "\n",
        "print()\n",
        "for i in dob.keys():\n",
        "  print(f\"{i} {dob[i]}\")\n",
        "\n",
        "print()\n",
        "labelled=label(dob)\n",
        "for i in labelled.keys():   \n",
        "  print(f\"Label: {i} Name: {labelled[i]}\")\n",
        "\n"
      ],
      "execution_count": null,
      "outputs": [
        {
          "output_type": "stream",
          "text": [
            "\n",
            "Nitish 2000-03-26\n",
            "Neha 2002-03-03\n",
            "Vivek 2003-01-01\n",
            "Razaul 2000-12-09\n",
            "Vineet 2002-05-05\n",
            "\n",
            "Label: 1 Name: ['Vivek', 'Vineet']\n",
            "Label: 2 Name: ['Neha']\n",
            "Label: 3 Name: ['Razaul']\n",
            "Label: 4 Name: ['Nitish']\n"
          ],
          "name": "stdout"
        }
      ]
    },
    {
      "cell_type": "markdown",
      "metadata": {
        "id": "oPLhzROxtQXb"
      },
      "source": [
        "**Create a function to sort 2d Array by a column.**"
      ]
    },
    {
      "cell_type": "code",
      "metadata": {
        "colab": {
          "base_uri": "https://localhost:8080/"
        },
        "id": "u_IvdzcUk7qv",
        "outputId": "2ef854e9-61c2-428c-8d60-ab39f9af68dd"
      },
      "source": [
        "import numpy as np\n",
        "\n",
        "\n",
        "def sort_column(l):\n",
        "  print(\"\\nColumn sorted matrix:\")\n",
        "  l=l.transpose()\n",
        "  for i in l:\n",
        "    i.sort()\n",
        "\n",
        "  l=l.transpose()\n",
        "  for i in l:\n",
        "    for j in i:\n",
        "      print(j,end=\" \")\n",
        "    print(\"\")\n",
        "  \n",
        "  return \n",
        "\n",
        "\n",
        "\n",
        "l=np.array([[11, 12, 13, 22], [21, 7, 23, 14], [31, 10, 33, 7]])\n",
        "\n",
        "print(\"Original 2D matrix: \")\n",
        "for i in l:\n",
        "  for j in i:\n",
        "    print(j,end=\" \")\n",
        "  print(\"\")  \n",
        "\n",
        "sort_column(l)"
      ],
      "execution_count": null,
      "outputs": [
        {
          "output_type": "stream",
          "text": [
            "Original 2D matrix: \n",
            "11 12 13 22 \n",
            "21 7 23 14 \n",
            "31 10 33 7 \n",
            "\n",
            "Column sorted matrix:\n",
            "11 7 13 7 \n",
            "21 10 23 14 \n",
            "31 12 33 22 \n"
          ],
          "name": "stdout"
        }
      ]
    },
    {
      "cell_type": "code",
      "metadata": {
        "id": "WKw_nGYst5Qp"
      },
      "source": [
        ""
      ],
      "execution_count": null,
      "outputs": []
    }
  ]
}