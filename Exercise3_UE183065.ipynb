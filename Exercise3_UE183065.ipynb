{
  "nbformat": 4,
  "nbformat_minor": 0,
  "metadata": {
    "colab": {
      "name": "Exercise3_UE183065.ipynb",
      "provenance": [],
      "authorship_tag": "ABX9TyPAkbZVyoYWclotWK7EBaDj",
      "include_colab_link": true
    },
    "kernelspec": {
      "name": "python3",
      "display_name": "Python 3"
    },
    "language_info": {
      "name": "python"
    }
  },
  "cells": [
    {
      "cell_type": "markdown",
      "metadata": {
        "id": "view-in-github",
        "colab_type": "text"
      },
      "source": [
        "<a href=\"https://colab.research.google.com/github/ankay212000/Data-Mining-and-Analysis-Practical/blob/main/Exercise3_UE183065.ipynb\" target=\"_parent\"><img src=\"https://colab.research.google.com/assets/colab-badge.svg\" alt=\"Open In Colab\"/></a>"
      ]
    },
    {
      "cell_type": "markdown",
      "metadata": {
        "id": "6vp_hTG0SV2C"
      },
      "source": [
        "**Q1: Write a Python program to find the list in a list of lists whose sum of elements is the highest.**\n",
        "\n",
        "*Sample lists: [1,2,3], [4,5,6], [10,11,12], [7,8,9]*"
      ]
    },
    {
      "cell_type": "markdown",
      "metadata": {
        "id": "I0PXJMgvYOHv"
      },
      "source": [
        "**LOGIC:** \n",
        "\n",
        "I'll use a dictionay to store information\n",
        "\n",
        "Structure of dictionary: {sum_of_list:list}\n",
        "\n",
        "Then print the value of max key"
      ]
    },
    {
      "cell_type": "code",
      "metadata": {
        "id": "Z9eipRL7SPUy"
      },
      "source": [
        "def max_sum(num):\n",
        "  sum={};       #sum is the dictionary containing info\n",
        "  for i in range(len(num)):\n",
        "    p=0                 #p contains the sum list \n",
        "    for j in num[i]:\n",
        "      p+=j               \n",
        "    sum[p]=num[i]\n",
        "\n",
        "  print(sum[max(sum.keys())])    "
      ],
      "execution_count": null,
      "outputs": []
    },
    {
      "cell_type": "code",
      "metadata": {
        "colab": {
          "base_uri": "https://localhost:8080/"
        },
        "id": "6seBfFcfTMSn",
        "outputId": "9142018a-d65b-4b63-fd78-151c1a07b502"
      },
      "source": [
        "sample_lists=[[1,2,3],[4,5,6],[10,11,12],[7,8,9]]\n",
        "print(\"List with max_sum: \",end=\" \")\n",
        "max_sum(sample_lists)"
      ],
      "execution_count": null,
      "outputs": [
        {
          "output_type": "stream",
          "text": [
            "List with max_sum:  [10, 11, 12]\n"
          ],
          "name": "stdout"
        }
      ]
    },
    {
      "cell_type": "markdown",
      "metadata": {
        "id": "WnId7PK1Tm9_"
      },
      "source": [
        "**Q2: Write a Python program to check whether a list contains a sublist.**"
      ]
    },
    {
      "cell_type": "markdown",
      "metadata": {
        "id": "HtAebghMYy1q"
      },
      "source": [
        "**LOGIC:** \n",
        "\n",
        "Just Checking the type of elements in the list, if any of the element is of type list that means it's the sublist"
      ]
    },
    {
      "cell_type": "code",
      "metadata": {
        "id": "gmyjZZHMTX86"
      },
      "source": [
        "def isSublist(list1):\n",
        "  for i in list1:\n",
        "    if(type(i)==list):\n",
        "      return True\n",
        "  return False    "
      ],
      "execution_count": null,
      "outputs": []
    },
    {
      "cell_type": "code",
      "metadata": {
        "colab": {
          "base_uri": "https://localhost:8080/"
        },
        "id": "8PoV_XFnVdvr",
        "outputId": "7f876482-2dd1-4bd7-d335-5e62a00fa1cd"
      },
      "source": [
        "List1=[1,[[2,3],4],3,4,5]\n",
        "\n",
        "if(isSublist(List1)):\n",
        "  print(\"YES,it has sublist\")\n",
        "\n",
        "else:\n",
        "  print(\"No sublist present\")"
      ],
      "execution_count": null,
      "outputs": [
        {
          "output_type": "stream",
          "text": [
            "YES,it has sublist\n"
          ],
          "name": "stdout"
        }
      ]
    },
    {
      "cell_type": "code",
      "metadata": {
        "id": "bsPCIPibVr4b"
      },
      "source": [
        ""
      ],
      "execution_count": null,
      "outputs": []
    }
  ]
}