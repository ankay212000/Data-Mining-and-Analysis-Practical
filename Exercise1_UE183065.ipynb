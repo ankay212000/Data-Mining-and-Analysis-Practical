{
  "nbformat": 4,
  "nbformat_minor": 0,
  "metadata": {
    "language_info": {
      "codemirror_mode": {
        "name": "ipython",
        "version": 3
      },
      "file_extension": ".py",
      "mimetype": "text/x-python",
      "name": "python",
      "nbconvert_exporter": "python",
      "pygments_lexer": "ipython3",
      "version": "3.8.0"
    },
    "orig_nbformat": 2,
    "kernelspec": {
      "name": "python3",
      "display_name": "Python 3.8.0 64-bit",
      "metadata": {
        "interpreter": {
          "hash": "c79133fbe40df75878f7f3f39bc07c364604b1ac348ce67306b0e3a145748f77"
        }
      }
    },
    "colab": {
      "name": "Exercise1_UE183065.ipynb",
      "provenance": [],
      "collapsed_sections": [],
      "include_colab_link": true
    }
  },
  "cells": [
    {
      "cell_type": "markdown",
      "metadata": {
        "id": "view-in-github",
        "colab_type": "text"
      },
      "source": [
        "<a href=\"https://colab.research.google.com/github/ankay212000/Data-Mining-and-Analysis-Practical/blob/main/Exercise1_UE183065.ipynb\" target=\"_parent\"><img src=\"https://colab.research.google.com/assets/colab-badge.svg\" alt=\"Open In Colab\"/></a>"
      ]
    },
    {
      "cell_type": "markdown",
      "metadata": {
        "id": "7iajEKsLzfBv"
      },
      "source": [
        "# **Q.Open the Python IDLE and execute the following commands**\n",
        "* 10 + 15\n",
        "* print(\"Hello World\") \n",
        "* 45 -34\n",
        "* 8 * 2\n",
        "* print(\"Rahul's age is\", 45)\n",
        "* print(\"I have\", 10, \"mangoes and\", 12, \"bananas\")"
      ]
    },
    {
      "cell_type": "code",
      "metadata": {
        "id": "52FipGaszbmF",
        "outputId": "ebff5537-64ab-42c5-def8-20e3ff023be6"
      },
      "source": [
        "10+15"
      ],
      "execution_count": null,
      "outputs": [
        {
          "output_type": "execute_result",
          "data": {
            "text/plain": [
              "25"
            ]
          },
          "metadata": {
            "tags": []
          },
          "execution_count": 4
        }
      ]
    },
    {
      "cell_type": "code",
      "metadata": {
        "id": "sKdPKaG4zbmK",
        "outputId": "cb671f70-3743-47f6-8ec4-d54eb86a4cea"
      },
      "source": [
        "print(\"Hello World\")"
      ],
      "execution_count": null,
      "outputs": [
        {
          "output_type": "stream",
          "text": [
            "Hello World\n"
          ],
          "name": "stdout"
        }
      ]
    },
    {
      "cell_type": "code",
      "metadata": {
        "id": "TFPkfFegzbmP",
        "outputId": "b2f60034-aac1-427c-aa5f-76e12cb60b2c"
      },
      "source": [
        "45-34"
      ],
      "execution_count": null,
      "outputs": [
        {
          "output_type": "execute_result",
          "data": {
            "text/plain": [
              "11"
            ]
          },
          "metadata": {
            "tags": []
          },
          "execution_count": 6
        }
      ]
    },
    {
      "cell_type": "code",
      "metadata": {
        "id": "YYL63M-VzbmR",
        "outputId": "d0627a5d-16bf-4def-9e79-de0b839c1550"
      },
      "source": [
        "8*2"
      ],
      "execution_count": null,
      "outputs": [
        {
          "output_type": "execute_result",
          "data": {
            "text/plain": [
              "16"
            ]
          },
          "metadata": {
            "tags": []
          },
          "execution_count": 7
        }
      ]
    },
    {
      "cell_type": "code",
      "metadata": {
        "colab": {
          "base_uri": "https://localhost:8080/"
        },
        "id": "L1C03gcazbmV",
        "outputId": "cdb153f5-8786-4b30-d4a6-d5c0c9a174a4"
      },
      "source": [
        "print(\"Rahul's age is\",45)\n",
        "print(\"I have\",10,\"mangoes and\",12,\"bananas\")"
      ],
      "execution_count": null,
      "outputs": [
        {
          "output_type": "stream",
          "text": [
            "Rahul's age is 45\n",
            "I have 10 mangoes and 12 bananas\n"
          ],
          "name": "stdout"
        }
      ]
    },
    {
      "cell_type": "markdown",
      "metadata": {
        "id": "WQQ-1xuq0aFn"
      },
      "source": [
        "# **Q. Execute the following**\n",
        "\n",
        "emp_number = 1233\n",
        "\n",
        "print(\"Employee Number:\", emp_number)\n",
        "\n",
        "emp_salary = 16745.50\n",
        "\n",
        "emp_name = \"Jerry Squaris\"\n",
        "\n",
        "print(\"Employee Salary and Name:\", emp_salary, emp_name)\n",
        "\n",
        "emp_salary = 23450.34>print(\"Updated Employee Salary:\", emp_salary)"
      ]
    },
    {
      "cell_type": "code",
      "metadata": {
        "colab": {
          "base_uri": "https://localhost:8080/"
        },
        "id": "gg2D5Wu_0JiK",
        "outputId": "3d1c5bfe-1158-420d-dc87-78df0dab3239"
      },
      "source": [
        "emp_number=1233\n",
        "print(\"Employee Number:\",emp_number)\n",
        "emp_salary = 16745.50\n",
        "emp_name = \"Jerry Squaris\"\n",
        "print(\"Employee Salary and Name:\", emp_salary, emp_name)\n",
        "emp_salary = 23450.34\n",
        "print(\"Updated Employee Salary:\", emp_salary)"
      ],
      "execution_count": null,
      "outputs": [
        {
          "output_type": "stream",
          "text": [
            "Employee Number: 1233\n",
            "Employee Salary and Name: 16745.5 Jerry Squaris\n",
            "Updated Employee Salary: 23450.34\n"
          ],
          "name": "stdout"
        }
      ]
    },
    {
      "cell_type": "markdown",
      "metadata": {
        "id": "gAgNv78C1MoY"
      },
      "source": [
        "# **Q. Observe the output of following**\n",
        "\n",
        "customer_id = 101\n",
        "\n",
        "type(customer_id)\n",
        "\n",
        "customer_name = \"John\" \n",
        "\n",
        "type(customer_name)\n",
        "\n",
        "bill_amount = 675.45 \n",
        "\n",
        "type(bill_amount )\n",
        "\n",
        "x = 5.3 + 0.9j \n",
        "\n",
        "type(x)\n",
        "\n",
        "print(customer_id, customer_name, bill_amount) \n",
        "\n",
        "print(x.real) \n",
        "\n",
        "print(x.imag + 3) \n",
        "\n",
        "Flag = True\n",
        "\n",
        "type(Flag)\n",
        "\n",
        "y = \"False\""
      ]
    },
    {
      "cell_type": "code",
      "metadata": {
        "colab": {
          "base_uri": "https://localhost:8080/"
        },
        "id": "BVKQ1LjV1qcg",
        "outputId": "6bdf1f2e-2dca-470c-bf3c-d3e05383a5d4"
      },
      "source": [
        "customer_id = 101\n",
        "type(customer_id)"
      ],
      "execution_count": null,
      "outputs": [
        {
          "output_type": "execute_result",
          "data": {
            "text/plain": [
              "int"
            ]
          },
          "metadata": {
            "tags": []
          },
          "execution_count": 6
        }
      ]
    },
    {
      "cell_type": "code",
      "metadata": {
        "colab": {
          "base_uri": "https://localhost:8080/"
        },
        "id": "_fYWxt3x1rJA",
        "outputId": "5ee3178d-ff6f-4565-da4f-c1669f05183b"
      },
      "source": [
        "customer_name = \"John\" \n",
        "type(customer_name)"
      ],
      "execution_count": null,
      "outputs": [
        {
          "output_type": "execute_result",
          "data": {
            "text/plain": [
              "str"
            ]
          },
          "metadata": {
            "tags": []
          },
          "execution_count": 7
        }
      ]
    },
    {
      "cell_type": "code",
      "metadata": {
        "colab": {
          "base_uri": "https://localhost:8080/"
        },
        "id": "gERyDlp72IFx",
        "outputId": "2ad626ca-d342-4da2-afb6-f908fcd65701"
      },
      "source": [
        "bill_amount = 675.45 \n",
        "type(bill_amount )"
      ],
      "execution_count": null,
      "outputs": [
        {
          "output_type": "execute_result",
          "data": {
            "text/plain": [
              "float"
            ]
          },
          "metadata": {
            "tags": []
          },
          "execution_count": 8
        }
      ]
    },
    {
      "cell_type": "code",
      "metadata": {
        "colab": {
          "base_uri": "https://localhost:8080/"
        },
        "id": "WNnzE9Vk2LeZ",
        "outputId": "2b23e7ad-9279-41b8-e8dd-0c255938bd35"
      },
      "source": [
        "x = 5.3 + 0.9j \n",
        "\n",
        "print(type(x))\n",
        "print(customer_id, customer_name, bill_amount) \n",
        "print(x.real) \n",
        "print(x.imag + 3) \n"
      ],
      "execution_count": null,
      "outputs": [
        {
          "output_type": "stream",
          "text": [
            "<class 'complex'>\n",
            "101 John 675.45\n",
            "5.3\n",
            "3.9\n"
          ],
          "name": "stdout"
        }
      ]
    },
    {
      "cell_type": "code",
      "metadata": {
        "colab": {
          "base_uri": "https://localhost:8080/"
        },
        "id": "M55KvB_t2QZx",
        "outputId": "189c9493-f2ee-46c9-8a8e-e8a315f703c6"
      },
      "source": [
        "Flag = True\n",
        "type(Flag)"
      ],
      "execution_count": null,
      "outputs": [
        {
          "output_type": "execute_result",
          "data": {
            "text/plain": [
              "bool"
            ]
          },
          "metadata": {
            "tags": []
          },
          "execution_count": 12
        }
      ]
    },
    {
      "cell_type": "code",
      "metadata": {
        "id": "LkTT8jUu2S7Y"
      },
      "source": [
        "y = \"False\""
      ],
      "execution_count": null,
      "outputs": []
    },
    {
      "cell_type": "markdown",
      "metadata": {
        "id": "ft9ifV5U3a-X"
      },
      "source": [
        "#**Q. In a retail application, shopkeeper wants to keep a track of following details of a customer. Sample values are provided.**\n",
        "* bill_id = 101\n",
        "* customer_id = 1001\n",
        "* customer_name = \"Rahul\"\n",
        "* if_minor = False\n",
        "* bill_amount = 2000.50\n",
        "\n",
        "**Write a python program to store the details and display them**."
      ]
    },
    {
      "cell_type": "code",
      "metadata": {
        "colab": {
          "base_uri": "https://localhost:8080/"
        },
        "id": "LX99X7b62Yxk",
        "outputId": "3900985c-b9ab-4180-9c98-611eec85416d"
      },
      "source": [
        "# Sir I know that we haven't read classes in practical class, but I never used classes in my regular coding and \n",
        "# found this piece of instruction apt for using classes, so I solved it using classes.\n",
        "\n",
        "# Otherwise it can be solved easily by dictionary using bill id as key and a list of other values as list or\n",
        "# maintaing 5 lists for fields \n",
        "\n",
        "class customer:\n",
        "  def __init__(self,bill_id,customer_id,customer_name,if_minor,bill_amount):\n",
        "    self.bill_id=bill_id\n",
        "    self.customer_id=customer_id\n",
        "    self.customer_name=customer_name\n",
        "    self.if_minor=if_minor\n",
        "    self.bill_amount=bill_amount\n",
        "\n",
        "customer1=customer(101,1001,\"Rahul\",False,2000.50)\n",
        "print(\"Customer Details: \")\n",
        "print(\"Bill ID: \",customer1.bill_id)\n",
        "print(\"Customer ID: \",customer1.customer_id)\n",
        "print(\"Customer Name: \",customer1.customer_name)\n",
        "print(\"Is Customer Minor: \",customer1.if_minor)\n",
        "print(\"Bill amount: \",customer1.bill_amount)    "
      ],
      "execution_count": null,
      "outputs": [
        {
          "output_type": "stream",
          "text": [
            "Customer Details: \n",
            "Bill ID:  101\n",
            "Customer ID:  1001\n",
            "Customer Name:  Rahul\n",
            "Is Customer Minor:  False\n",
            "Bill amount:  2000.5\n"
          ],
          "name": "stdout"
        }
      ]
    },
    {
      "cell_type": "markdown",
      "metadata": {
        "id": "cKkAbxkT5UyI"
      },
      "source": [
        "#**Q. Write a Python program for the following requirements:**\n",
        "* Prompt the user to input two numbers num1 and num2\n",
        "* Increment num1 by 4 and num2 by 6\n",
        "* Find and print the sum of new values of num1 and num2"
      ]
    },
    {
      "cell_type": "code",
      "metadata": {
        "colab": {
          "base_uri": "https://localhost:8080/"
        },
        "id": "F1VRtWWj37of",
        "outputId": "3e6c46e4-7e3b-47c0-fc36-6c1d9beb8253"
      },
      "source": [
        "num1=int(input(\"Enter First number: \"))\n",
        "num2=int(input(\"Enter Second42 number: \"))\n",
        "print(\"sum: \",num1+num2)\n",
        "num1+=4\n",
        "num2+=6\n",
        "print(\"New value of num1: \",num1,\" num2: \",num2)\n",
        "print(\"New sum: \",num1+num2)"
      ],
      "execution_count": null,
      "outputs": [
        {
          "output_type": "stream",
          "text": [
            "Enter First number: 23\n",
            "Enter Second number: 42\n",
            "sum:  65\n",
            "New value of num1:  27  num2:  48\n",
            "New sum:  75\n"
          ],
          "name": "stdout"
        }
      ]
    },
    {
      "cell_type": "markdown",
      "metadata": {
        "id": "qolPPTuc6KxH"
      },
      "source": [
        "# **Q. Consider two variables 'a' and 'b' in Python such that a = 4 and b = 5. Swap the values of 'a' and 'b' without using a temporary variable. Print the values of 'a' and 'b' before and after swapping.**"
      ]
    },
    {
      "cell_type": "code",
      "metadata": {
        "colab": {
          "base_uri": "https://localhost:8080/"
        },
        "id": "E7FgpSME53FD",
        "outputId": "5e98c653-8095-4714-a8ec-18395bb11e61"
      },
      "source": [
        "a=4\n",
        "b=5\n",
        "print(\"Before swap:\\na: \",a,\" b: \",b)\n",
        "a,b=b,a\n",
        "print(\"After swap:\\na: \",a,\" b: \",b)"
      ],
      "execution_count": null,
      "outputs": [
        {
          "output_type": "stream",
          "text": [
            "Before swap:\n",
            "a:  4  b:  5\n",
            "After swap:\n",
            "a:  5  b:  4\n"
          ],
          "name": "stdout"
        }
      ]
    },
    {
      "cell_type": "markdown",
      "metadata": {
        "id": "5aerGOtT7DAy"
      },
      "source": [
        "# **Q. Consider the scenario of processing marks of a student in ABC Training Institute. John, the student of fifth grade takes exams in three different subjects. Create three variables to store the marks obtained by John in three subjects. Find and display the average marks scored by John.Now change the marks in one of the subjects and observe the output. Did the value of average change. Write a Python program to implement this.**"
      ]
    },
    {
      "cell_type": "code",
      "metadata": {
        "colab": {
          "base_uri": "https://localhost:8080/"
        },
        "id": "BfRl9HmF65ib",
        "outputId": "233722ba-7bd8-48f1-f2db-1c29ab76a7f3"
      },
      "source": [
        "sub1=int(input(\"Marks in Subject1: \"))\n",
        "sub2=int(input(\"Marks in Subject2: \"))\n",
        "sub3=int(input(\"Marks in Subject3: \"))\n",
        "avg=(sub1+sub2+sub3)/3\n",
        "print(\"Avergage of marks obtained: \",avg)\n",
        "sub1=int(input(\"New marks in Subject1: \"))\n",
        "avg=(sub1+sub2+sub3)/3\n",
        "print(\"New avergage of marks obtained: \",avg)"
      ],
      "execution_count": null,
      "outputs": [
        {
          "output_type": "stream",
          "text": [
            "Marks in Subject1: 33\n",
            "Marks in Subject2: 33\n",
            "Marks in Subject3: 33\n",
            "Avergage of marks obtained:  33.0\n",
            "New marks in Subject1: 32\n",
            "New avergage of marks obtained:  32.666666666666664\n"
          ],
          "name": "stdout"
        }
      ]
    },
    {
      "cell_type": "markdown",
      "metadata": {
        "id": "-XQKfEIV7-aJ"
      },
      "source": [
        "# **Q. Given the value of radius of a circle, write a Python program to calculate the area and perimeter of the circle.Display both the values.**"
      ]
    },
    {
      "cell_type": "code",
      "metadata": {
        "colab": {
          "base_uri": "https://localhost:8080/"
        },
        "id": "8ljCJKuR7yRA",
        "outputId": "7f218005-00e0-48ff-bc40-bd723ef803a2"
      },
      "source": [
        "radius=int(input(\"Enter the radius of cicle: \"))\n",
        "area=22/7*(radius**2)\n",
        "perimeter=2*22/7*radius\n",
        "print(f\"Area of circle: {area}\\nPerimeter of cirlce:{perimeter}\")"
      ],
      "execution_count": null,
      "outputs": [
        {
          "output_type": "stream",
          "text": [
            "Enter the radius of cicle: 7\n",
            "Area of circle: 154.0\n",
            "Perimeter of cirlce:44.0\n"
          ],
          "name": "stdout"
        }
      ]
    },
    {
      "cell_type": "markdown",
      "metadata": {
        "id": "PlgZfEZs8tiv"
      },
      "source": [
        "#**Q.** **The finance department of a company wants to compute the monthly pay of its employees. Monthly pay should be calculated as mentioned in the formula below. Display all the employee details.**\n",
        "\n",
        "**Monthly Pay = Number of hours worked in a week x Pay rate perhour x No. of weeks in a month**\n",
        "* The number of hours worked by the employee in a week should be considered as 40\n",
        "* Pay rate per hour should be considered as Rs.400 \n",
        "* Number of weeks in a month should be considered as 4\n",
        "\n",
        "**Write a Python program to implement the above real world problem.**"
      ]
    },
    {
      "cell_type": "code",
      "metadata": {
        "colab": {
          "base_uri": "https://localhost:8080/"
        },
        "id": "jo7O-0Pr8nDl",
        "outputId": "b56bf409-0cc7-4687-d03e-12ba997cf649"
      },
      "source": [
        "hours=40\n",
        "pay_rate=400\n",
        "weeks=4\n",
        "print(\"Monthly pay: Rs\",hours*pay_rate*weeks)"
      ],
      "execution_count": null,
      "outputs": [
        {
          "output_type": "stream",
          "text": [
            "Monthly pay: Rs 64000\n"
          ],
          "name": "stdout"
        }
      ]
    },
    {
      "cell_type": "markdown",
      "metadata": {
        "id": "94Qyn-4g-G7w"
      },
      "source": [
        "# **Q. Implement the following in Python:**\n",
        "* Display all even numbers between 50 and 80 (both inclusive) using \"for\" loop.* Add natural numbers up to n where n is taken as an input from user. Print the sum.\n",
        "* Prompt the user to enter a number.\n",
        "* Print whether the number is prime or not.\n",
        "* Print Fibonacci series till nth term where n is taken as an input from user"
      ]
    },
    {
      "cell_type": "code",
      "metadata": {
        "colab": {
          "base_uri": "https://localhost:8080/"
        },
        "id": "C4cVxDYs99RW",
        "outputId": "438ce6ab-f020-4928-8152-3e49ebcf7f4f"
      },
      "source": [
        "def even_num(start,end):\n",
        "  print(\"All the required even numbers: \")    \n",
        "  for i in range(start,end+1,2):\n",
        "    print(i,end=\" \")\n",
        "  print()  \n",
        "\n",
        "def is_prime(n):\n",
        "  i=2\n",
        "  while(i*i<=n):\n",
        "    if(n%i==0):\n",
        "      return False\n",
        "    i+=1  \n",
        "  return True\n",
        "\n",
        "def take_input():\n",
        "  n=int(input(\"Enter a number: \"))\n",
        "  return is_prime(n)\n",
        "\n",
        "def fibonacci(n):\n",
        "  fib=[0]*(n+1) \n",
        "  fib[1]=1\n",
        "  for i in range(2,n+1):\n",
        "    fib[i]=fib[i-1]+fib[i-2]\n",
        "\n",
        "  return fib[n]\n",
        "\n",
        "even_num(50,80)\n",
        "if(take_input()):\n",
        "  print(\"It is a prime number\")\n",
        "else:\n",
        "  print(\"Not a prime number\")  \n",
        "\n",
        "n=int(input(\"Enter n to get nth fibonacci number: \"))\n",
        "print(f\"{n}th fibonacci number considering series starts from 1: {fibonacci(n)}\")    "
      ],
      "execution_count": null,
      "outputs": [
        {
          "output_type": "stream",
          "text": [
            "All the required even numbers: \n",
            "50 52 54 56 58 60 62 64 66 68 70 72 74 76 78 80 \n",
            "Enter a number: 17\n",
            "It is a prime number\n",
            "Enter n to get nth fibonacci number: 7\n",
            "7th fibonacci number considering series starts from 1: 13\n"
          ],
          "name": "stdout"
        }
      ]
    },
    {
      "cell_type": "code",
      "metadata": {
        "id": "3pLjGVO6_xnh"
      },
      "source": [
        ""
      ],
      "execution_count": null,
      "outputs": []
    }
  ]
}