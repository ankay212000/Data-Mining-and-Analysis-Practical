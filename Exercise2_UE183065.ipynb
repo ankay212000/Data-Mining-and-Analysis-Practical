{
  "nbformat": 4,
  "nbformat_minor": 0,
  "metadata": {
    "colab": {
      "name": "Exercise2_UE183065",
      "provenance": [],
      "collapsed_sections": []
    },
    "kernelspec": {
      "name": "python3",
      "display_name": "Python 3"
    },
    "language_info": {
      "name": "python"
    }
  },
  "cells": [
    {
      "cell_type": "markdown",
      "metadata": {
        "id": "mzPVtzc347cR"
      },
      "source": [
        "**Q.** ***Make a word scrambler program to scramble every word in the file. Scrambling the word means \"keeping first and last letter intact and scramble all other letters randomly\". For example, if following is written in file: \" This is a  new word scrambler program. \"  Then this will be changed to : \"Tihs is a new wrod srcelabmr pograrm.\" Punctuation marks won't change their position.***\n",
        "\n"
      ]
    },
    {
      "cell_type": "markdown",
      "metadata": {
        "id": "lLWCZPbax0NK"
      },
      "source": [
        "***Logic***\n",
        "\n",
        "\n",
        "1.   Pop First element, Last element and Punctuation mark from text \n",
        "2.   Shuffle the remaining elements\n",
        "3.   Insert First element, Last element and Punctuation mark in their respective places\n",
        "\n"
      ]
    },
    {
      "cell_type": "code",
      "metadata": {
        "id": "0d_8oG_hv76x"
      },
      "source": [
        "def scramble(word,punc_pos):                     #this function shuffles the letters in a word\n",
        "  if(punc_pos==-1):                              #Case when no punctuation mark is present \n",
        "    if(len(word)<=3):\n",
        "      print(word,end=\" \")\n",
        "      return\n",
        "\n",
        "    word=list(word) \n",
        "    first=word[0]\n",
        "    last=word[-1]\n",
        "\n",
        "    #Popping out the first and last letter from word\n",
        "    word.pop(0)\n",
        "    word.pop(-1)\n",
        "\n",
        "    #Shuffling\n",
        "    for i in range(0,len(word),scramble_pos):\n",
        "        j=(i+scramble_pos)%len(word)\n",
        "        if(i==j):\n",
        "          j=(j+1)%len(word)  \n",
        "        word[i],word[j]= word[j],word[i];\n",
        "    \n",
        "    #Inserting back the popped out elements at their correct position\n",
        "    word.insert(0,first)\n",
        "    word.insert(len(word),last)\n",
        "\n",
        "    word=''.join(word)\n",
        "    print(word,end=\" \")\n",
        "\n",
        "    return \n",
        "  else:                                           #Case when punctuation mark is present\n",
        "    if(len(word)-1<=3):\n",
        "      print(word,end=\" \")\n",
        "    else:\n",
        "      length_word=len(word)\n",
        "      word=list(word)\n",
        "      punc=word[punc_pos]\n",
        "      \n",
        "      if(punc_pos==0):\n",
        "        first=word[1]\n",
        "        last=word[-1]  \n",
        "      elif(punc_pos==len(word)-1):\n",
        "        first=word[0]\n",
        "        last=word[-2]\n",
        "      else:\n",
        "        first=word[0]\n",
        "        last=word[-1]      \n",
        "\n",
        "\n",
        "      #Popping out the first,last and punctuation mark from the word\n",
        "      word.pop(punc_pos)\n",
        "      for i in range(len(word)):\n",
        "        if(word[i]==first):\n",
        "          word.pop(i)\n",
        "          break\n",
        "      for i in range(len(word)):\n",
        "        if(word[i]==last):\n",
        "          word.pop(i)\n",
        "          break    \n",
        "      \n",
        "      #Shuffling\n",
        "      for i in range(0,len(word),scramble_pos):\n",
        "        j=(i+scramble_pos)%len(word)\n",
        "        if(i==j):\n",
        "          j=(j+1)%len(word)\n",
        "        word[i],word[j]= word[j],word[i];\n",
        "      \n",
        "      #Inserting back the popped out elements at their correct position\n",
        "      if(punc_pos==0):\n",
        "        word.insert(0,first)\n",
        "        word.insert(0,punc)\n",
        "        word.insert(len(word),last)  \n",
        "      elif(punc_pos==length_word-1):\n",
        "        word.insert(0,first)\n",
        "        word.insert(len(word),last)\n",
        "        word.insert(len(word),punc)\n",
        "      else:\n",
        "        word.insert(0,first)\n",
        "        word.insert(len(word),last)\n",
        "        word.insert(punc_pos,punc)\n",
        "\n",
        "      word=''.join(word)\n",
        "\n",
        "      print(word,end=\" \")\n",
        "      return \n"
      ],
      "execution_count": 40,
      "outputs": []
    },
    {
      "cell_type": "code",
      "metadata": {
        "colab": {
          "base_uri": "https://localhost:8080/"
        },
        "id": "qyO8sIsm0FKC",
        "outputId": "91faa3ec-592d-468f-edcf-464c591ba421"
      },
      "source": [
        "scramble_pos=2 #This decides the scramble position, in place of this we can use random but not using it\n",
        "#changing scramble_pos will result in different shuffling position of letters in a word\n",
        "\n",
        "sentence=input(\"Enter your sentence: \").split(\" \")   #Taking in input and splitting on the basis of \" \"\n",
        "punctuation=[\",\",\"?\",\"_\",\".\",\";\",\":\",\"-\",\"/\",\"'\"]    #Punctuation marks taking into consideration\n",
        "\n",
        "print(\"Scrambled sentence: \",end=\" \")\n",
        "for word in sentence:\n",
        "  pos=-1                                #pos is the position of punctuation mark, so I'm assuming only 1 punctuation mark present in a word\n",
        "  if(len(word)>=3):                     # for example: for \"Isn't\" (will work correctly) but for \"Isn't,\" (will fail) \n",
        "    for i in range(len(word)):\n",
        "      if(word[i] in punctuation):\n",
        "        pos=i\n",
        "        break   \n",
        "    scramble(word,pos)                #scramble function shuffles the letter in a word\n",
        "  else:\n",
        "    print(word,end=\" \")\n"
      ],
      "execution_count": 42,
      "outputs": [
        {
          "output_type": "stream",
          "text": [
            "Enter your sentence: This is a new, awesome word scrambler program. Isn't it?\n",
            "Scrambled sentence:  Tihs is a new, aewsome wrod smracbler porgram. Ins't it? "
          ],
          "name": "stdout"
        }
      ]
    },
    {
      "cell_type": "code",
      "metadata": {
        "id": "7lraP3Ti5MvD"
      },
      "source": [
        ""
      ],
      "execution_count": null,
      "outputs": []
    }
  ]
}