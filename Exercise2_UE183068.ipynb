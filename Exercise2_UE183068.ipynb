{
  "nbformat": 4,
  "nbformat_minor": 0,
  "metadata": {
    "colab": {
      "name": "Exercise2_UE183068.ipynb",
      "provenance": [],
      "collapsed_sections": [],
      "include_colab_link": true
    },
    "kernelspec": {
      "name": "python3",
      "display_name": "Python 3"
    },
    "language_info": {
      "name": "python"
    }
  },
  "cells": [
    {
      "cell_type": "markdown",
      "metadata": {
        "id": "view-in-github",
        "colab_type": "text"
      },
      "source": [
        "<a href=\"https://colab.research.google.com/github/ankay212000/Data-Mining-and-Analysis-Practical/blob/main/Exercise2_UE183068.ipynb\" target=\"_parent\"><img src=\"https://colab.research.google.com/assets/colab-badge.svg\" alt=\"Open In Colab\"/></a>"
      ]
    },
    {
      "cell_type": "code",
      "metadata": {
        "id": "XNXIeKxPQmpW"
      },
      "source": [
        "def getScrambledWord(word):\n",
        "  if len(word) > 1:\n",
        "    i = 0\n",
        "    j = -1\n",
        "    while word[i].isalpha() == False:\n",
        "      i = i + 1\n",
        "    while word[j].isalpha() == False:\n",
        "      j = j - 1\n",
        "    scramble = word[(i+1):j][::-1]\n",
        "    return word[0:(i+1)] + scramble + word[j:]\n",
        "  else:\n",
        "    return word"
      ],
      "execution_count": null,
      "outputs": []
    },
    {
      "cell_type": "code",
      "metadata": {
        "id": "Fr4XFzw5ytLy"
      },
      "source": [
        "def scrambledString(words):\n",
        "  res = \"\"\n",
        "  for word in words:\n",
        "    flag = 0\n",
        "    for ch in word[1:-1]:\n",
        "      if ch.isalpha() == False:\n",
        "        flag = 1\n",
        "        new_word = word.split(ch)\n",
        "        res = res + getScrambledWord(new_word[0]) + ch + getScrambledWord(new_word[1]) + \" \"\n",
        "    if flag == 0:\n",
        "      res += getScrambledWord(word) + \" \"\n",
        "  return res  "
      ],
      "execution_count": null,
      "outputs": []
    },
    {
      "cell_type": "code",
      "metadata": {
        "colab": {
          "base_uri": "https://localhost:8080/"
        },
        "id": "_g7HQnn-xpqL",
        "outputId": "089509fd-d7e1-4e9b-df67-011b04f10792"
      },
      "source": [
        "num = int(input(\"Enter Number of strings: \"))\n",
        "while num > 0:\n",
        "  str = input(\"Enter your String: \")\n",
        "  print(scrambledString(str.split()))\n",
        "  num = num - 1"
      ],
      "execution_count": null,
      "outputs": [
        {
          "output_type": "stream",
          "text": [
            "Enter Number of strings: 4\n",
            "Enter your String: Wow!, That's great idea!\n",
            "Wow!, Taht's gaert ieda! \n",
            "Enter your String: can I Print a .pdf file on a printer?\n",
            "can I Pnirt a .pdf flie on a petnirr? \n",
            "Enter your String: Which of these boxes are painted red, green or blue?\n",
            "Wcihh of tsehe bexos are petniad red, geern or bule? \n",
            "Enter your String: This is a  new word scrambler program.\n",
            "Tihs is a new wrod selbmarcr pargorm. \n"
          ],
          "name": "stdout"
        }
      ]
    }
  ]
}