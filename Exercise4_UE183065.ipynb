{
  "nbformat": 4,
  "nbformat_minor": 0,
  "metadata": {
    "colab": {
      "name": "Exercise4_UE183065.ipynb",
      "provenance": [],
      "collapsed_sections": [],
      "authorship_tag": "ABX9TyM4+SLCy7Rbq5TV3ayvOYRL",
      "include_colab_link": true
    },
    "kernelspec": {
      "name": "python3",
      "display_name": "Python 3"
    },
    "language_info": {
      "name": "python"
    }
  },
  "cells": [
    {
      "cell_type": "markdown",
      "metadata": {
        "id": "view-in-github",
        "colab_type": "text"
      },
      "source": [
        "<a href=\"https://colab.research.google.com/github/ankay212000/Data-Mining-and-Analysis-Practical/blob/main/Exercise4_UE183065.ipynb\" target=\"_parent\"><img src=\"https://colab.research.google.com/assets/colab-badge.svg\" alt=\"Open In Colab\"/></a>"
      ]
    },
    {
      "cell_type": "markdown",
      "metadata": {
        "id": "8Ggt83I2UETo"
      },
      "source": [
        "**Question 1: You are required to write a program to sort the (name, age, height) tuples by ascending order where name is string, age and height are numbers. The tuples are input by console.** \n",
        "\n",
        "The sort criteria is: 1: Sort based on name; 2: Then sort based on age; 3: Then sort by score. \n",
        "\n",
        "The priority is that name > age > score.\n",
        "\n",
        "If the following tuples are given as input to the program:\n",
        "\n",
        ">Tom,19,80\n",
        "\n",
        ">John,20,90\n",
        "\n",
        ">Jony,17,91\n",
        "\n",
        ">Jony,17,93\n",
        "\n",
        ">Json,21,85\n",
        "\n",
        "Then, the output of the program should be:\n",
        "\n",
        "[('John', '20', '90'), ('Jony', '17', '91'), ('Jony', '17', '93'), ('Json', '21', '85'), ('Tom', '19', '80')]\n"
      ]
    },
    {
      "cell_type": "code",
      "metadata": {
        "colab": {
          "base_uri": "https://localhost:8080/"
        },
        "id": "6aHGm_MyT1VU",
        "outputId": "dd4ad3b0-a62b-469d-c369-9079dd620f5c"
      },
      "source": [
        "num_entries=int(input(\"Number of entries: \"))\n",
        "User_info=[]\n",
        "for i in range(num_entries):\n",
        "  name,age,score=input().split(\",\")\n",
        "  User_info.append((name,age,score))\n",
        "\n",
        "sorted_user_info=sorted(User_info,key=lambda info:(info[0],info[1],info[2]))\n",
        "print(\"Required sorted User Info: \")\n",
        "print(sorted_user_info)"
      ],
      "execution_count": 2,
      "outputs": [
        {
          "output_type": "stream",
          "text": [
            "Number of entries: 4\n",
            "Tom,19,80\n",
            "John,20,90\n",
            "Jony,17,91\n",
            "Jony,17,93\n",
            "Required sorted User Info: \n",
            "[('John', '20', '90'), ('Jony', '17', '91'), ('Jony', '17', '93'), ('Tom', '19', '80')]\n"
          ],
          "name": "stdout"
        }
      ]
    },
    {
      "cell_type": "markdown",
      "metadata": {
        "id": "opv_9WHOVnyB"
      },
      "source": [
        "**Question 2: Calculate Word Frequencies. Take a set of sentences in a string as an input. Count each unique occurrence of a word and calculate frequency of occurrence and store in a dictionary. Produce a frequency table.**"
      ]
    },
    {
      "cell_type": "code",
      "metadata": {
        "colab": {
          "base_uri": "https://localhost:8080/"
        },
        "id": "C_Euyn5vVbck",
        "outputId": "7ecd0ca9-35ee-4fea-b029-ed5620858a7c"
      },
      "source": [
        "def freq(sent):\n",
        "  net_tokens=[]\n",
        "  for sentence in sent:\n",
        "    tokens=sentence.split(\" \");\n",
        "    net_tokens.append(tokens)\n",
        "  \n",
        "  word_freq={}\n",
        "\n",
        "  for i in net_tokens:\n",
        "    for j in i:\n",
        "      if(j not in word_freq.keys()):\n",
        "        word_freq[j]=1\n",
        "      else:\n",
        "        word_freq[j]+=1\n",
        "  return word_freq        \n",
        "\n",
        "n=int(input(\"Enter number of lines you want to type: \"))\n",
        "set_ofSentence=[]\n",
        "for _ in range(n):\n",
        "  User_sentence=input(\"Enter sentence: \")\n",
        "  set_ofSentence.append(User_sentence)\n",
        "print(\"\\nRequired frequency graph: \\n\")\n",
        "\n",
        "res=freq(set_ofSentence)\n",
        "\n",
        "for i in res.keys():\n",
        "  print(i,end=\": \")\n",
        "  print(res[i])"
      ],
      "execution_count": null,
      "outputs": [
        {
          "output_type": "stream",
          "text": [
            "Enter number of lines you want to type: 4\n",
            "Enter sentence: Calculate Word Frequencies\n",
            "Enter sentence: Take a set of sentences in a string as an input\n",
            "Enter sentence: Count each unique occurrence of a word and calculate frequency of occurrence and store in a dictionary\n",
            "Enter sentence: Produce a frequency table\n",
            "\n",
            "Required frequency graph: \n",
            "\n",
            "Calculate: 1\n",
            "Word: 1\n",
            "Frequencies: 1\n",
            "Take: 1\n",
            "a: 5\n",
            "set: 1\n",
            "of: 3\n",
            "sentences: 1\n",
            "in: 2\n",
            "string: 1\n",
            "as: 1\n",
            "an: 1\n",
            "input: 1\n",
            "Count: 1\n",
            "each: 1\n",
            "unique: 1\n",
            "occurrence: 2\n",
            "word: 1\n",
            "and: 2\n",
            "calculate: 1\n",
            "frequency: 2\n",
            "store: 1\n",
            "dictionary: 1\n",
            "Produce: 1\n",
            "table: 1\n"
          ],
          "name": "stdout"
        }
      ]
    },
    {
      "cell_type": "markdown",
      "metadata": {
        "id": "yg583XrxgUD5"
      },
      "source": [
        "**Question 3: Result Calculation. Create a dictionary and a list like following.**\n",
        "\n",
        "Student = { 'UE183001': 'Avish', 'UE183002': 'Bhavya', 'UE183003': 'Tanya' } Add atleast 10 students\n",
        "\n",
        "Marks = [('UE183001', 'CS', 94 ), ('UE183002', 'CS', 64 ), ('UE183001', 'RV', 94), ('UE183002', 'CS', 74), ('UE183003', 'CS', 64)] \n",
        "\n",
        "Add some more values\n",
        "\n",
        "Find total marks of each students and display full name of student with total marks secured. This is the basic relational database join algorithm between two tables.\n"
      ]
    },
    {
      "cell_type": "code",
      "metadata": {
        "id": "W_RXyLgJWnzt",
        "colab": {
          "base_uri": "https://localhost:8080/"
        },
        "outputId": "738fea6e-25fc-4694-8d4a-26583ad6ab2a"
      },
      "source": [
        "import random\n",
        "\n",
        "Students = {\n",
        "    'UE183001':'Avish',\n",
        "    'UE183002':'Bhavya',\n",
        "    'UE183003':'Tanya',\n",
        "    'UE183004':'Nitish',\n",
        "    'UE183005':'Razaul',\n",
        "    'UE183006':'Vineet',\n",
        "    'UE183007':'Dimple',\n",
        "    'UE183008':'Pavit',\n",
        "    'UE183009':'Peeyush',\n",
        "    'UE183010':'Rahul'\n",
        "}\n",
        "\n",
        "Marks=[\n",
        "       ('UE183001','CS',88),('UE183001','DMA',90),('UE183001','LAPT',99),('UE183001','CD',90),\n",
        "       ('UE183002','CS',98),('UE183002','DMA',91),('UE183002','LAPT',98),('UE183002','CD',91),\n",
        "       ('UE183003','CS',97),('UE183003','DMA',92),('UE183003','LAPT',72),('UE183003','CD',92),\n",
        "       ('UE183004','CS',96),('UE183004','DMA',93),('UE183004','LAPT',96),('UE183004','CD',86),\n",
        "       ('UE183005','CS',95),('UE183005','DMA',88),('UE183005','LAPT',95),('UE183005','CD',87),\n",
        "       ('UE183006','CS',73),('UE183006','DMA',95),('UE183006','LAPT',94),('UE183006','CD',88),\n",
        "       ('UE183007','CS',93),('UE183007','DMA',96),('UE183007','LAPT',89),('UE183007','CD',96),\n",
        "       ('UE183008','CS',92),('UE183008','DMA',97),('UE183008','LAPT',97),('UE183008','CD',96),\n",
        "       ('UE183009','CS',91),('UE183009','DMA',98),('UE183009','LAPT',91),('UE183009','CD',98),\n",
        "       ('UE183010','CS',90),('UE183010','DMA',99),('UE183010','LAPT',90),('UE183010','CD',99)\n",
        "]\n",
        "\n",
        "random.shuffle(Marks)\n",
        "\n",
        "Info={}\n",
        "for roll in Students.keys():\n",
        "  Info[roll]=0\n",
        "\n",
        "for (name,sub,mark) in Marks:\n",
        "  Info[name]+=mark \n",
        "\n",
        "print(\"Information of Students: \\n\")\n",
        "for i in Info.keys():\n",
        "  print(\"Roll no.: \",i)\n",
        "  print(\"Name: \",Students[i],end=\"\\n\")\n",
        "  print(\"Total Marks: \",Info[i])\n",
        "  print(\"Out of: \",400)\n",
        "  print()"
      ],
      "execution_count": 7,
      "outputs": [
        {
          "output_type": "stream",
          "text": [
            "Information of Students: \n",
            "\n",
            "Roll no.:  UE183001\n",
            "Name:  Avish\n",
            "Total Marks:  367\n",
            "Out of:  400\n",
            "\n",
            "Roll no.:  UE183002\n",
            "Name:  Bhavya\n",
            "Total Marks:  378\n",
            "Out of:  400\n",
            "\n",
            "Roll no.:  UE183003\n",
            "Name:  Tanya\n",
            "Total Marks:  353\n",
            "Out of:  400\n",
            "\n",
            "Roll no.:  UE183004\n",
            "Name:  Nitish\n",
            "Total Marks:  371\n",
            "Out of:  400\n",
            "\n",
            "Roll no.:  UE183005\n",
            "Name:  Razaul\n",
            "Total Marks:  365\n",
            "Out of:  400\n",
            "\n",
            "Roll no.:  UE183006\n",
            "Name:  Vineet\n",
            "Total Marks:  350\n",
            "Out of:  400\n",
            "\n",
            "Roll no.:  UE183007\n",
            "Name:  Dimple\n",
            "Total Marks:  374\n",
            "Out of:  400\n",
            "\n",
            "Roll no.:  UE183008\n",
            "Name:  Pavit\n",
            "Total Marks:  382\n",
            "Out of:  400\n",
            "\n",
            "Roll no.:  UE183009\n",
            "Name:  Peeyush\n",
            "Total Marks:  378\n",
            "Out of:  400\n",
            "\n",
            "Roll no.:  UE183010\n",
            "Name:  Rahul\n",
            "Total Marks:  378\n",
            "Out of:  400\n",
            "\n"
          ],
          "name": "stdout"
        }
      ]
    },
    {
      "cell_type": "markdown",
      "metadata": {
        "id": "Z9F1Csh5pMMC"
      },
      "source": [
        "Question 4: A date of the form 8-MAR-85 includes the name of the month, which must be translated to a number. Create a dict suitable for decoding month names to numbers. Create a function which uses string operations to split the date into 3 items using the \"-\" character. Translate the month, correct the year to include all of the digits.\n",
        "The function will accept a date in the \"dd-MMM-yy\" format and respond with a tuple of ( y , m , d ).\n"
      ]
    },
    {
      "cell_type": "code",
      "metadata": {
        "colab": {
          "base_uri": "https://localhost:8080/"
        },
        "id": "46CR8HhqmNWH",
        "outputId": "63943213-b6d7-40d4-8208-346c44b75ed3"
      },
      "source": [
        "months={\n",
        "    'JAN':'01',\n",
        "    'FEB':'02',\n",
        "    'MAR':'03',\n",
        "    'APR':'04',\n",
        "    'MAY':'05',\n",
        "    'JUN':'06',\n",
        "    'JUL':'07',\n",
        "    'AUG':'08',\n",
        "    'SEP':'09',\n",
        "    'OCT':'10',\n",
        "    'NOV':'11',\n",
        "    'DEC':'12'\n",
        "}\n",
        "\n",
        "def transform(format_date):\n",
        "  date,month,year=format_date.split(\"-\")\n",
        "  date=int(date)\n",
        "\n",
        "  if(year<='21'):\n",
        "    year='20'+year\n",
        "  else:\n",
        "    year='19'+year\n",
        "\n",
        "  res=(year,months[month],date)\n",
        "  return res\n",
        "\n",
        "\n",
        "print(\"Date format date-month-year\\n\")\n",
        "print(\"For ex: 8-MAR-85\\n\")\n",
        "\n",
        "format_date=input(\"Enter Date: \")\n",
        "print(transform(format_date))       "
      ],
      "execution_count": null,
      "outputs": [
        {
          "output_type": "stream",
          "text": [
            "Date format date-month-year\n",
            "\n",
            "For ex: 8-MAR-85\n",
            "\n",
            "Enter Date: 9-APR-15\n",
            "('2015', '04', 9)\n"
          ],
          "name": "stdout"
        }
      ]
    },
    {
      "cell_type": "markdown",
      "metadata": {
        "id": "a9DhfEcir9b3"
      },
      "source": [
        "\n",
        "**Question 5: Dice Odds. There are 36 possible combinations of two dice. A simple pair of loops over range(6)+1 will enumerate all combinations. The sum of the two dice is more interesting than the actual combination. Create a dict of all combinations, using the sum of the two dice as the key. Each value in the dict should be a list of tuples; each tuple has the value of two dice.**\n",
        "\n",
        "The general outline is something like the following:\n",
        "\n",
        "```\n",
        "d= {}\n",
        "Loop with d1 from 1 to 6\n",
        "    Loop with d2 from 1 to 6\n",
        "        newTuple ← ( d1, d2 ) # create the tuple\n",
        "        oldList ← dictionary entry for sum d1+d2\n",
        "        newList ← oldList + newTuple\n",
        "        replace entry in dictionary with newList\n",
        "```\n",
        "\n",
        "Loop over all values in the dictionary\n",
        "\n",
        "print the key and the length of the list"
      ]
    },
    {
      "cell_type": "code",
      "metadata": {
        "colab": {
          "base_uri": "https://localhost:8080/"
        },
        "id": "Tfeop8kBrQmJ",
        "outputId": "c877fb2c-954b-4796-9980-197f0dc675dd"
      },
      "source": [
        "sum_dict={}\n",
        "for i in range(1,7):\n",
        "  for j in range(1,7):\n",
        "    if (i+j) not in sum_dict.keys():\n",
        "      sum_dict[i+j]=[(i,j)]\n",
        "    else:\n",
        "      sum_dict[i+j].append((i,j))\n",
        "\n",
        "print(\"Sum\\tLength of List\")\n",
        "for i in sum_dict.keys():\n",
        "  print(i,end=\": \\t\")\n",
        "  print(len(sum_dict[i]))"
      ],
      "execution_count": null,
      "outputs": [
        {
          "output_type": "stream",
          "text": [
            "Sum\tLength of List\n",
            "2: \t1\n",
            "3: \t2\n",
            "4: \t3\n",
            "5: \t4\n",
            "6: \t5\n",
            "7: \t6\n",
            "8: \t5\n",
            "9: \t4\n",
            "10: \t3\n",
            "11: \t2\n",
            "12: \t1\n"
          ],
          "name": "stdout"
        }
      ]
    },
    {
      "cell_type": "code",
      "metadata": {
        "id": "uHXSMn9otebV"
      },
      "source": [
        ""
      ],
      "execution_count": null,
      "outputs": []
    }
  ]
}