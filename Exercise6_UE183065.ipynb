{
  "nbformat": 4,
  "nbformat_minor": 0,
  "metadata": {
    "colab": {
      "name": "Exercise6_UE183065.ipynb",
      "provenance": [],
      "collapsed_sections": [],
      "authorship_tag": "ABX9TyMDq7UsDHweADeHRptxusZl",
      "include_colab_link": true
    },
    "kernelspec": {
      "name": "python3",
      "display_name": "Python 3"
    },
    "language_info": {
      "name": "python"
    }
  },
  "cells": [
    {
      "cell_type": "markdown",
      "metadata": {
        "id": "view-in-github",
        "colab_type": "text"
      },
      "source": [
        "<a href=\"https://colab.research.google.com/github/ankay212000/Data-Mining-and-Analysis-Practical/blob/main/Exercise6_UE183065.ipynb\" target=\"_parent\"><img src=\"https://colab.research.google.com/assets/colab-badge.svg\" alt=\"Open In Colab\"/></a>"
      ]
    },
    {
      "cell_type": "markdown",
      "metadata": {
        "id": "9PM5zR3P7CwW"
      },
      "source": [
        " Create one hot encoding of an array. For example For an array([2, 3, 2, 2, 2, 1]) \n",
        " \n",
        " Output should be\n",
        "\n",
        "array([[ 0.,  1.,  0.],[ 0.,  0.,  1.],[ 0.,  1.,  0.],[ 0.,  1.,  0.],[ 0.,  1.,  0.],[ 1.,  0.,  0.]])\n",
        "\n"
      ]
    },
    {
      "cell_type": "code",
      "metadata": {
        "colab": {
          "base_uri": "https://localhost:8080/"
        },
        "id": "dyY04dGb5jRY",
        "outputId": "784bb8df-4362-424b-810d-c80eed68865d"
      },
      "source": [
        "import numpy as np\n",
        "\n",
        "def encode(num,arr):\n",
        "  for i in range(len(arr)):\n",
        "    num[i][arr[i]-1]=1\n",
        "\n",
        "  return num\n",
        "\n",
        "arr=[2,3,2,2,1]\n",
        "dim=max(arr)\n",
        "num=np.zeros(dim*len(arr))\n",
        "num=num.reshape(len(arr),dim)\n",
        "\n",
        "num=encode(num,arr)\n",
        "print(\"one hot encoding: \")\n",
        "print(num)"
      ],
      "execution_count": 1,
      "outputs": [
        {
          "output_type": "stream",
          "text": [
            "one hot encoding: \n",
            "[[0. 1. 0.]\n",
            " [0. 0. 1.]\n",
            " [0. 1. 0.]\n",
            " [0. 1. 0.]\n",
            " [1. 0. 0.]]\n"
          ],
          "name": "stdout"
        }
      ]
    },
    {
      "cell_type": "markdown",
      "metadata": {
        "id": "W0vy5dUOUEX1"
      },
      "source": [
        "Drop all missing values from an array Input:\n",
        "\n",
        "np.array([1,2,3,np.nan,5,6,7,np.nan]) \n",
        "\n",
        "Desired Output: array([ 1.,2.,3.,5.,6.,7.])"
      ]
    },
    {
      "cell_type": "code",
      "metadata": {
        "id": "YbJ2lGrG8HTb",
        "colab": {
          "base_uri": "https://localhost:8080/"
        },
        "outputId": "f980d7ef-e7fb-49a1-814f-55ea52722f8c"
      },
      "source": [
        "input_arr=np.array([1,2,3,np.nan,5,6,7,np.nan])\n",
        "output_arr=np.array([])\n",
        "for i in input_arr:\n",
        "  if(np.isnan(i)==False):\n",
        "    output_arr=np.append(output_arr,[i])\n",
        "print(\"Output: \")\n",
        "print(output_arr)"
      ],
      "execution_count": 80,
      "outputs": [
        {
          "output_type": "stream",
          "text": [
            "Output: \n",
            "[1. 2. 3. 5. 6. 7.]\n"
          ],
          "name": "stdout"
        }
      ]
    },
    {
      "cell_type": "markdown",
      "metadata": {
        "id": "NekprF1ZWTnU"
      },
      "source": [
        "Find Local maxima from an array. Input: a = np.array([1, 3, 7, 1, 2, 6, 0, 1])\n",
        " \n",
        "Desired Output: array([2, 5])"
      ]
    },
    {
      "cell_type": "code",
      "metadata": {
        "colab": {
          "base_uri": "https://localhost:8080/"
        },
        "id": "4yK4xQBdUoG1",
        "outputId": "c9ffb575-a43c-424c-c270-b449b065a404"
      },
      "source": [
        "a=np.array([1,3,7,1,2,6,0,1])\n",
        "diff_arr=np.array([])\n",
        "for i in range(1,len(a)):\n",
        "  diff_arr=np.append(diff_arr,a[i]-a[i-1])\n",
        "\n",
        "res=np.array([])\n",
        "for i in range(0,len(diff_arr)):\n",
        "  if(diff_arr[i]<0):\n",
        "    res=np.append(res,i)\n",
        "\n",
        "print(\"Local Maxima index: \")\n",
        "print(res)"
      ],
      "execution_count": 81,
      "outputs": [
        {
          "output_type": "stream",
          "text": [
            "Local Maxima index: \n",
            "[2. 5.]\n"
          ],
          "name": "stdout"
        }
      ]
    },
    {
      "cell_type": "markdown",
      "metadata": {
        "id": "PJjDShqnX21t"
      },
      "source": [
        "From the given 1d array arr, generate a 2d matrix using strides,\n",
        "\n",
        "For example for an array \n",
        "\n",
        "([ 0,  1,  2,  3,  4,  5,  6,  7,  8,  9, 10, 11, 12, 13, 14])\n",
        "\n",
        "with a window length of w=4 and strides of s=2, \n",
        "\n",
        "like [[0,1,2,3], [2,3,4,5], [4,5,6,7]..]\n",
        "\n",
        "w and s will be provided by user"
      ]
    },
    {
      "cell_type": "code",
      "metadata": {
        "colab": {
          "base_uri": "https://localhost:8080/"
        },
        "id": "ciXWFC6VXH1_",
        "outputId": "6d79e39e-e62e-4538-ce67-f3c1184ab1b6"
      },
      "source": [
        "def generate(num,w,s):\n",
        "  ans=np.array([])\n",
        "  flag=True\n",
        "  for i in range(0,len(num),s):\n",
        "    for j in range(0,w):\n",
        "      if(i+j>=len(num)):\n",
        "        ans=np.append(ans,ans[-1])\n",
        "        flag=False\n",
        "      else:\n",
        "        ans=np.append(ans,num[(i+j)%len(num)])    \n",
        "    if(flag==False or ans[-1]==num[-1]):\n",
        "      break    \n",
        "\n",
        "  ans=ans.reshape(len(ans)//w,w)\n",
        "  return ans\n",
        "input_arr=np.array([ 0, 1, 2, 3, 4, 5, 6, 7, 8, 9, 10, 11, 12, 13,14])\n",
        "wind=int(input(\"Enter Window Length: \"))\n",
        "strid=int(input(\"Enter Strides: \"))\n",
        "\n",
        "print(\"Generated matrix: \")\n",
        "print(generate(input_arr,wind,strid))\n",
        "  "
      ],
      "execution_count": 82,
      "outputs": [
        {
          "output_type": "stream",
          "text": [
            "Enter Window Length: 4\n",
            "Enter Strides: 2\n",
            "Generated matrix: \n",
            "[[ 0.  1.  2.  3.]\n",
            " [ 2.  3.  4.  5.]\n",
            " [ 4.  5.  6.  7.]\n",
            " [ 6.  7.  8.  9.]\n",
            " [ 8.  9. 10. 11.]\n",
            " [10. 11. 12. 13.]\n",
            " [12. 13. 14. 14.]]\n"
          ],
          "name": "stdout"
        }
      ]
    },
    {
      "cell_type": "code",
      "metadata": {
        "id": "kKkXr0Q_Yua7"
      },
      "source": [
        ""
      ],
      "execution_count": null,
      "outputs": []
    }
  ]
}